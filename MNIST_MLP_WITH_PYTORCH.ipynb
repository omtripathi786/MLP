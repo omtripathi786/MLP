{
 "cells": [
  {
   "cell_type": "markdown",
   "id": "prepared-yorkshire",
   "metadata": {},
   "source": [
    "# Multi-Layer Perceptron, MNIST\n",
    "---\n",
    "In this notebook, we will train an MLP to classify images from the [MNIST database](http://yann.lecun.com/exdb/mnist/) hand-written digit database.\n",
    "\n",
    "The process will be broken down into the following steps:\n",
    ">1. Load and visualize the data\n",
    "2. Define a neural network\n",
    "3. Train the model\n",
    "4. Evaluate the performance of our trained model on a test dataset!\n",
    "\n",
    "Before we begin, we have to import the necessary libraries for working with data and PyTorch.\n",
    "also want to make this dynamic if in case some one want to use GPU"
   ]
  },
  {
   "cell_type": "code",
   "execution_count": 97,
   "id": "necessary-uzbekistan",
   "metadata": {},
   "outputs": [],
   "source": [
    "# The MNIST datasets are hosted on yann.lecun.com that has moved under CloudFlare protection\n",
    "# Run this script to enable the datasets download\n",
    "# Reference: https://github.com/pytorch/vision/issues/1938\n",
    "# if below solution do not work try this \n",
    "# # For new versions of TorchVision\n",
    "# wget -O MNIST.tar.gz https://activeeon-public.s3.eu-west-2.amazonaws.com/datasets/MNIST.new.tar.gz\n",
    "#tar -zxvf MNIST.tar.gz\n",
    "from six.moves import urllib\n",
    "opener = urllib.request.build_opener()\n",
    "opener.addheaders = [('User-agent', 'Mozilla/5.0')]\n",
    "urllib.request.install_opener(opener)"
   ]
  },
  {
   "cell_type": "code",
   "execution_count": 98,
   "id": "raising-portable",
   "metadata": {},
   "outputs": [
    {
     "name": "stdout",
     "output_type": "stream",
     "text": [
      "CUDA is not available.  Training on CPU ...\n"
     ]
    }
   ],
   "source": [
    "import torch\n",
    "import torch.nn as nn\n",
    "import torch.nn.functional as F\n",
    "import numpy as np\n",
    "from torchvision import datasets\n",
    "import torchvision.transforms as transforms\n",
    "from torch.utils.data.sampler import SubsetRandomSampler\n",
    "import matplotlib.pyplot as plt\n",
    "%matplotlib inline\n",
    "# check if CUDA is available\n",
    "train_on_gpu = torch.cuda.is_available()\n",
    "\n",
    "if not train_on_gpu:\n",
    "    print('CUDA is not available.  Training on CPU ...')\n",
    "else:\n",
    "    print('CUDA is available!  Training on GPU ...')"
   ]
  },
  {
   "cell_type": "markdown",
   "id": "hearing-jordan",
   "metadata": {},
   "source": [
    "### Step1:- Load and visualize the data"
   ]
  },
  {
   "cell_type": "code",
   "execution_count": 99,
   "id": "joint-welsh",
   "metadata": {},
   "outputs": [],
   "source": [
    "# how many samples per batch to load\n",
    "batch_size = 20\n",
    "# percentage of training set to use as validation\n",
    "valid_size = 0.2\n",
    "num_workers =0\n",
    "#transforming image to tensor vector and sacling the image\n",
    "transform = transforms.ToTensor()\n",
    "train_data = datasets.MNIST(root='', train=True, download=True, transform=transform)\n",
    "test_data = datasets.MNIST(root='', train=False, download=True, transform=transform)\n"
   ]
  },
  {
   "cell_type": "code",
   "execution_count": 100,
   "id": "ranging-freedom",
   "metadata": {},
   "outputs": [],
   "source": [
    "# obtain training indices that will be used for validation\n",
    "num_train = len(train_data)\n",
    "indices = list(range(num_train))\n",
    "np.random.shuffle(indices)\n",
    "split = int(np.floor(valid_size * num_train))\n",
    "train_idx, valid_idx = indices[split:], indices[:split]\n",
    "\n",
    "# define samplers for obtaining training and validation batches\n",
    "train_sampler = SubsetRandomSampler(train_idx)\n",
    "valid_sampler = SubsetRandomSampler(valid_idx)\n",
    "\n",
    "# prepare data loaders\n",
    "train_loader = torch.utils.data.DataLoader(train_data, batch_size=batch_size,\n",
    "    sampler=train_sampler, num_workers=num_workers)\n",
    "valid_loader = torch.utils.data.DataLoader(train_data, batch_size=batch_size, \n",
    "    sampler=valid_sampler, num_workers=num_workers)\n",
    "test_loader = torch.utils.data.DataLoader(test_data, batch_size=batch_size, \n",
    "    num_workers=num_workers)"
   ]
  },
  {
   "cell_type": "code",
   "execution_count": 101,
   "id": "norman-reduction",
   "metadata": {},
   "outputs": [
    {
     "name": "stderr",
     "output_type": "stream",
     "text": [
      "/Users/omtripa/anaconda3/envs/deep-learning/lib/python3.6/site-packages/ipykernel_launcher.py:10: MatplotlibDeprecationWarning: Passing non-integers as three-element position specification is deprecated since 3.3 and will be removed two minor releases later.\n",
      "  # Remove the CWD from sys.path while we load stuff.\n"
     ]
    },
    {
     "data": {
      "image/png": "[encoded data removed]",
      "text/plain": [
       "<Figure size 1800x288 with 20 Axes>"
      ]
     },
     "metadata": {},
     "output_type": "display_data"
    }
   ],
   "source": [
    "# visualize the data\n",
    "# obtain one batch of training images\n",
    "dataiter = iter(train_loader)\n",
    "images, labels = dataiter.next()\n",
    "images = images.numpy()\n",
    "\n",
    "# plot the images in the batch, along with the corresponding labels\n",
    "fig = plt.figure(figsize=(25, 4))\n",
    "for idx in np.arange(20):\n",
    "    ax = fig.add_subplot(2, 20/2, idx+1, xticks=[], yticks=[])\n",
    "    ax.imshow(np.squeeze(images[idx]), cmap='gray')\n",
    "    # print out the correct label for each image\n",
    "    # .item() gets the value contained in a Tensor\n",
    "    ax.set_title(str(labels[idx].item()))"
   ]
  },
  {
   "cell_type": "markdown",
   "id": "extra-orientation",
   "metadata": {},
   "source": [
    "## Step2 :- Define a neural network"
   ]
  },
  {
   "cell_type": "code",
   "execution_count": 102,
   "id": "balanced-thumbnail",
   "metadata": {},
   "outputs": [
    {
     "name": "stdout",
     "output_type": "stream",
     "text": [
      "NuralNetwork(\n",
      "  (fc1): Linear(in_features=784, out_features=512, bias=True)\n",
      "  (fc2): Linear(in_features=512, out_features=512, bias=True)\n",
      "  (fc3): Linear(in_features=512, out_features=10, bias=True)\n",
      "  (dropout): Dropout(p=0.2, inplace=False)\n",
      ")\n"
     ]
    }
   ],
   "source": [
    "#28 * 28 is the size of input image vector\n",
    "class NuralNetwork(nn.Module):\n",
    "    def __init__(self):\n",
    "        super(NuralNetwork, self).__init__()\n",
    "        #input layer\n",
    "        self.fc1 = nn.Linear(28*28, 512)\n",
    "        #hidden layer 1\n",
    "        self.fc2 = nn.Linear(512, 512)\n",
    "        #hidden layer 2\n",
    "        self.fc3 = nn.Linear(512, 10)\n",
    "        #drop out layer which prevent overfitting of model\n",
    "        self.dropout = nn.Dropout(0.2)\n",
    "        \n",
    "    def forward(self, x):\n",
    "        # flatten image input\n",
    "        x = x.view(-1, 28 * 28)\n",
    "        # add hidden layer, with relu activation function\n",
    "        x = F.relu(self.fc1(x))\n",
    "        x = self.dropout(x)\n",
    "        x = F.relu(self.fc2(x))\n",
    "        x = self.dropout(x)\n",
    "        x = self.fc3(x)\n",
    "        return x\n",
    "    \n",
    "model = NuralNetwork()\n",
    "# move tensors to GPU if CUDA is available\n",
    "if train_on_gpu:\n",
    "    model.cuda()\n",
    "print(model)    "
   ]
  },
  {
   "cell_type": "markdown",
   "id": "ceramic-topic",
   "metadata": {},
   "source": [
    "###  Specify [Loss Function](http://pytorch.org/docs/stable/nn.html#loss-functions) and [Optimizer](http://pytorch.org/docs/stable/optim.html)\n",
    "\n",
    "It's recommended that you use cross-entropy loss for classification. If you look at the documentation (linked above), you can see that PyTorch's cross entropy function applies a softmax funtion to the output layer *and* then calculates the log loss."
   ]
  },
  {
   "cell_type": "code",
   "execution_count": 103,
   "id": "living-support",
   "metadata": {},
   "outputs": [],
   "source": [
    "criterion = nn.CrossEntropyLoss()\n",
    "optimizer = torch.optim.SGD(model.parameters(), lr=0.01)"
   ]
  },
  {
   "cell_type": "markdown",
   "id": "aquatic-logistics",
   "metadata": {},
   "source": [
    "## Step3:- Train the Network\n",
    "\n",
    "The steps for training/learning from a batch of data are described in the comments below:\n",
    "1. Clear the gradients of all optimized variables\n",
    "2. Forward pass: compute predicted outputs by passing inputs to the model\n",
    "3. Calculate the loss\n",
    "4. Backward pass: compute gradient of the loss with respect to model parameters\n",
    "5. Perform a single optimization step (parameter update)\n",
    "6. Update average training loss\n",
    "\n",
    "The following loop trains for 30 epochs; feel free to change this number. For now, we suggest somewhere between 20-50 epochs. As you train, take a look at how the values for the training loss decrease over time. We want it to decrease while also avoiding overfitting the training data."
   ]
  },
  {
   "cell_type": "code",
   "execution_count": 116,
   "id": "average-factor",
   "metadata": {},
   "outputs": [
    {
     "name": "stdout",
     "output_type": "stream",
     "text": [
      "Epoch: 1 \tTraining Loss: 0.040447 \tValidation Loss: 0.014611\n",
      "Validation loss decreased (inf --> 0.014611).  Saving model ...\n",
      "Epoch: 2 \tTraining Loss: 0.038042 \tValidation Loss: 0.014336\n",
      "Validation loss decreased (0.014611 --> 0.014336).  Saving model ...\n",
      "Epoch: 3 \tTraining Loss: 0.036571 \tValidation Loss: 0.013853\n",
      "Validation loss decreased (0.014336 --> 0.013853).  Saving model ...\n",
      "Epoch: 4 \tTraining Loss: 0.035352 \tValidation Loss: 0.013931\n",
      "Epoch: 5 \tTraining Loss: 0.032554 \tValidation Loss: 0.013402\n",
      "Validation loss decreased (0.013853 --> 0.013402).  Saving model ...\n",
      "Epoch: 6 \tTraining Loss: 0.030798 \tValidation Loss: 0.013331\n",
      "Validation loss decreased (0.013402 --> 0.013331).  Saving model ...\n",
      "Epoch: 7 \tTraining Loss: 0.029706 \tValidation Loss: 0.013005\n",
      "Validation loss decreased (0.013331 --> 0.013005).  Saving model ...\n",
      "Epoch: 8 \tTraining Loss: 0.027708 \tValidation Loss: 0.013152\n",
      "Epoch: 9 \tTraining Loss: 0.026193 \tValidation Loss: 0.012899\n",
      "Validation loss decreased (0.013005 --> 0.012899).  Saving model ...\n",
      "Epoch: 10 \tTraining Loss: 0.024889 \tValidation Loss: 0.012964\n",
      "Epoch: 11 \tTraining Loss: 0.023559 \tValidation Loss: 0.012859\n",
      "Validation loss decreased (0.012899 --> 0.012859).  Saving model ...\n",
      "Epoch: 12 \tTraining Loss: 0.022717 \tValidation Loss: 0.012815\n",
      "Validation loss decreased (0.012859 --> 0.012815).  Saving model ...\n",
      "Epoch: 13 \tTraining Loss: 0.022155 \tValidation Loss: 0.012823\n",
      "Epoch: 14 \tTraining Loss: 0.020028 \tValidation Loss: 0.012874\n",
      "Epoch: 15 \tTraining Loss: 0.020361 \tValidation Loss: 0.012668\n",
      "Validation loss decreased (0.012815 --> 0.012668).  Saving model ...\n",
      "Epoch: 16 \tTraining Loss: 0.018626 \tValidation Loss: 0.012763\n",
      "Epoch: 17 \tTraining Loss: 0.017740 \tValidation Loss: 0.012614\n",
      "Validation loss decreased (0.012668 --> 0.012614).  Saving model ...\n",
      "Epoch: 18 \tTraining Loss: 0.017256 \tValidation Loss: 0.012379\n",
      "Validation loss decreased (0.012614 --> 0.012379).  Saving model ...\n",
      "Epoch: 19 \tTraining Loss: 0.016098 \tValidation Loss: 0.012566\n",
      "Epoch: 20 \tTraining Loss: 0.015095 \tValidation Loss: 0.012668\n",
      "Epoch: 21 \tTraining Loss: 0.015756 \tValidation Loss: 0.012269\n",
      "Validation loss decreased (0.012379 --> 0.012269).  Saving model ...\n",
      "Epoch: 22 \tTraining Loss: 0.014902 \tValidation Loss: 0.012403\n",
      "Epoch: 23 \tTraining Loss: 0.014213 \tValidation Loss: 0.012577\n",
      "Epoch: 24 \tTraining Loss: 0.013288 \tValidation Loss: 0.012223\n",
      "Validation loss decreased (0.012269 --> 0.012223).  Saving model ...\n",
      "Epoch: 25 \tTraining Loss: 0.013024 \tValidation Loss: 0.012301\n",
      "Epoch: 26 \tTraining Loss: 0.012620 \tValidation Loss: 0.012512\n",
      "Epoch: 27 \tTraining Loss: 0.012266 \tValidation Loss: 0.012305\n",
      "Epoch: 28 \tTraining Loss: 0.011659 \tValidation Loss: 0.012297\n",
      "Epoch: 29 \tTraining Loss: 0.011281 \tValidation Loss: 0.012621\n",
      "Epoch: 30 \tTraining Loss: 0.010929 \tValidation Loss: 0.012321\n"
     ]
    }
   ],
   "source": [
    "valid_loss_min = np.inf\n",
    "epochs = 30\n",
    "for epoch in range(1, epochs+1):\n",
    "    train_loss = 0.0\n",
    "    valid_loss = 0.0\n",
    "    for images, targets in train_loader:\n",
    "        if train_on_gpu:\n",
    "            images, targets = images.cuda(), targets.cuda()\n",
    "        model.train()\n",
    "        optimizer.zero_grad()\n",
    "        outputs = model(images)\n",
    "        loss = criterion(outputs, targets)\n",
    "        loss.backward()\n",
    "        optimizer.step()\n",
    "        train_loss += loss.item() * images.size(0)\n",
    "     \n",
    "    model.eval()\n",
    "    for images, targets in valid_loader:\n",
    "        if train_on_gpu:\n",
    "            images, targets = images.cuda(), targets.cuda()\n",
    "        \n",
    "        outputs = model(images)\n",
    "        loss = criterion(outputs, targets)\n",
    "        valid_loss += loss.item() * images.size(0)\n",
    "        \n",
    "    train_loss = train_loss / len(train_loader.dataset)\n",
    "    valid_loss = valid_loss / len(valid_loader.dataset)\n",
    "    print('Epoch: {} \\tTraining Loss: {:.6f} \\tValidation Loss: {:.6f}'.format(epoch, train_loss, valid_loss))\n",
    "    if valid_loss <= valid_loss_min:\n",
    "            print('Validation loss decreased ({:.6f} --> {:.6f}).  Saving model ...'.format(\n",
    "                valid_loss_min,\n",
    "                valid_loss))\n",
    "            torch.save(model.state_dict(), 'model.pt')\n",
    "            valid_loss_min = valid_loss\n",
    "        \n",
    "        "
   ]
  },
  {
   "cell_type": "code",
   "execution_count": 105,
   "id": "variable-things",
   "metadata": {},
   "outputs": [
    {
     "data": {
      "text/plain": [
       "<All keys matched successfully>"
      ]
     },
     "execution_count": 105,
     "metadata": {},
     "output_type": "execute_result"
    }
   ],
   "source": [
    "# load the model with lowest validation model\n",
    "model.load_state_dict(torch.load('model.pt'))"
   ]
  },
  {
   "cell_type": "markdown",
   "id": "express-english",
   "metadata": {},
   "source": [
    "## Step 4:- Test the Trained Network\n",
    "\n",
    "Finally, we test our best model on previously unseen **test data** and evaluate it's performance. Testing on unseen data is a good way to check that our model generalizes well. It may also be useful to be granular in this analysis and take a look at how this model performs on each class as well as looking at its overall loss and accuracy."
   ]
  },
  {
   "cell_type": "code",
   "execution_count": 110,
   "id": "according-sponsorship",
   "metadata": {},
   "outputs": [
    {
     "name": "stdout",
     "output_type": "stream",
     "text": [
      "Test Loss: 0.070096\n",
      "\n",
      "Test Accuracy of     0: 100% (56/56)\n",
      "Test Accuracy of     1: 98% (67/68)\n",
      "Test Accuracy of     2: 94% (48/51)\n",
      "Test Accuracy of     3: 97% (34/35)\n",
      "Test Accuracy of     4: 100% (43/43)\n",
      "Test Accuracy of     5: 100% (39/39)\n",
      "Test Accuracy of     6: 96% (49/51)\n",
      "Test Accuracy of     7: 91% (45/49)\n",
      "Test Accuracy of     8: 94% (54/57)\n",
      "Test Accuracy of     9: 98% (50/51)\n"
     ]
    }
   ],
   "source": [
    "test_loss = 0.0\n",
    "class_correct = list(0. for i in range(10))\n",
    "class_total = list(0. for i in range(10))\n",
    "model.eval()\n",
    "for data, target in test_loader:\n",
    "    if train_on_gpu:\n",
    "            data, target = data.cuda(), target.cuda()\n",
    "    output = model(data)\n",
    "    loss = criterion(output, target)\n",
    "    test_loss += loss.item() * data.size(0)\n",
    "    _, prediction = torch.max(output, 1)\n",
    "    correct_tensor = prediction.eq(target.data.view_as(prediction))\n",
    "    correct = np.squeeze(correct_tensor.numpy()) if not train_on_gpu else np.squeeze(correct_tensor.cpu().numpy())\n",
    "    for i in range(batch_size):\n",
    "        label = target.data[i]\n",
    "    class_correct[label] += correct[i].item()\n",
    "    class_total[label] += 1\n",
    "    \n",
    "# calculate and print avg test loss\n",
    "test_loss = test_loss/len(test_loader.dataset)\n",
    "print('Test Loss: {:.6f}\\n'.format(test_loss))\n",
    "for i in range(10):\n",
    "        if class_total[i] > 0:\n",
    "            print('Test Accuracy of %5s: %2d%% (%2d/%2d)' % (str(i), 100 * class_correct[i] / class_total[i],\n",
    "                np.sum(class_correct[i]), np.sum(class_total[i])))\n",
    "        else:\n",
    "            print('Test Accuracy of %5s: N/A (no training examples)' % (class_total[i]))\n",
    "    "
   ]
  },
  {
   "cell_type": "code",
   "execution_count": 115,
   "id": "accessory-bibliography",
   "metadata": {},
   "outputs": [
    {
     "name": "stderr",
     "output_type": "stream",
     "text": [
      "/Users/omtripa/anaconda3/envs/deep-learning/lib/python3.6/site-packages/ipykernel_launcher.py:15: MatplotlibDeprecationWarning: Passing non-integers as three-element position specification is deprecated since 3.3 and will be removed two minor releases later.\n",
      "  from ipykernel import kernelapp as app\n"
     ]
    },
    {
     "data": {
      "image/png": "[encoded data removed]",
      "text/plain": [
       "<Figure size 1800x288 with 20 Axes>"
      ]
     },
     "metadata": {},
     "output_type": "display_data"
    }
   ],
   "source": [
    "# obtain one batch of test images\n",
    "dataiter = iter(test_loader)\n",
    "images, labels = dataiter.next()\n",
    "\n",
    "# get sample outputs\n",
    "output = model(images)\n",
    "# convert output probabilities to predicted class\n",
    "_, preds = torch.max(output, 1)\n",
    "# prep images for display\n",
    "images = images.numpy()\n",
    "\n",
    "# plot the images in the batch, along with predicted and true labels\n",
    "fig = plt.figure(figsize=(25, 4))\n",
    "for idx in np.arange(20):\n",
    "    ax = fig.add_subplot(2, 20/2, idx+1, xticks=[], yticks=[])\n",
    "    ax.imshow(np.squeeze(images[idx]), cmap='gray')\n",
    "    ax.set_title(\"{} ({})\".format(str(preds[idx].item()), str(labels[idx].item())),\n",
    "                 color=(\"green\" if preds[idx]==labels[idx] else \"red\"))"
   ]
  }
 ],
 "metadata": {
  "kernelspec": {
   "display_name": "Python 3",
   "language": "python",
   "name": "python3"
  },
  "language_info": {
   "codemirror_mode": {
    "name": "ipython",
    "version": 3
   },
   "file_extension": ".py",
   "mimetype": "text/x-python",
   "name": "python",
   "nbconvert_exporter": "python",
   "pygments_lexer": "ipython3",
   "version": "3.6.13"
  }
 },
 "nbformat": 4,
 "nbformat_minor": 5
}
